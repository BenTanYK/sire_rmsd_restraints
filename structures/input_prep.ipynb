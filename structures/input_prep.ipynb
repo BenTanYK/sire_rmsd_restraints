{
 "cells": [
  {
   "cell_type": "code",
   "execution_count": 1,
   "id": "13f44157",
   "metadata": {},
   "outputs": [
    {
     "data": {
      "application/vnd.jupyter.widget-view+json": {
       "model_id": "05ee5868e1664fcb8615076a047d0529",
       "version_major": 2,
       "version_minor": 0
      },
      "text/plain": []
     },
     "metadata": {},
     "output_type": "display_data"
    },
    {
     "name": "stderr",
     "output_type": "stream",
     "text": [
      "/home/btan/miniconda3/envs/openbiosim/lib/python3.11/site-packages/nglview/__init__.py:12: UserWarning: pkg_resources is deprecated as an API. See https://setuptools.pypa.io/en/latest/pkg_resources.html. The pkg_resources package is slated for removal as early as 2025-11-30. Refrain from using this package or pin to Setuptools<81.\n",
      "  import pkg_resources\n",
      "INFO:rdkit:Enabling RDKit 2024.03.5 jupyter extensions\n",
      "INFO:numexpr.utils:Note: NumExpr detected 32 cores but \"NUMEXPR_MAX_THREADS\" not set, so enforcing safe limit of 16.\n",
      "INFO:numexpr.utils:NumExpr defaulting to 16 threads.\n"
     ]
    }
   ],
   "source": [
    "import BioSimSpace as BSS\n",
    "import sire as sr"
   ]
  },
  {
   "cell_type": "code",
   "execution_count": 2,
   "id": "e1388703",
   "metadata": {},
   "outputs": [
    {
     "name": "stdout",
     "output_type": "stream",
     "text": [
      "Downloading from 'https://files.rcsb.org/download/1UBQ.pdb.gz'...\n",
      "Unzipping './1UBQ.pdb.gz'...\n"
     ]
    }
   ],
   "source": [
    "mols = sr.load(\"1UBQ\")"
   ]
  },
  {
   "cell_type": "code",
   "execution_count": null,
   "id": "62f59241",
   "metadata": {},
   "outputs": [
    {
     "data": {
      "text/plain": [
       "Molecule( 1UBQ:2  num_atoms=660 num_residues=134 )"
      ]
     },
     "execution_count": 5,
     "metadata": {},
     "output_type": "execute_result"
    }
   ],
   "source": [
    "mols[0]"
   ]
  },
  {
   "cell_type": "code",
   "execution_count": 7,
   "id": "f8e9f4bc",
   "metadata": {},
   "outputs": [
    {
     "name": "stdout",
     "output_type": "stream",
     "text": [
      "\n",
      "==================================================\n",
      "Summary of pdb4amber for: 1UBQ.pdb\n",
      "===================================================\n",
      "\n",
      "----------Chains\n",
      "The following (original) chains have been found:\n",
      "A\n",
      "\n",
      "---------- Alternate Locations (Original Residues!))\n",
      "\n",
      "The following residues had alternate locations:\n",
      "None\n",
      "-----------Non-standard-resnames\n",
      "\n",
      "\n",
      "---------- Missing heavy atom(s)\n",
      "\n",
      "None\n"
     ]
    }
   ],
   "source": [
    "!pdb4amber --reduce --dry --add-missing-atoms -o 1UBQ_dry.pdb 1UBQ.pdb"
   ]
  },
  {
   "cell_type": "code",
   "execution_count": 14,
   "id": "3504dcef",
   "metadata": {},
   "outputs": [],
   "source": [
    "protein = BSS.IO.readMolecules(\"1UBQ_dry.pdb\")[0]\n",
    "protein = BSS.Parameters.ff14SB(protein).getMolecule()\n",
    "\n",
    "protein_copy = BSS.IO.readMolecules(\"1UBQ_dry.pdb\")[0]\n",
    "protein_copy = BSS.Parameters.ff14SB(protein_copy).getMolecule()"
   ]
  },
  {
   "cell_type": "code",
   "execution_count": 15,
   "id": "d2d20b7c",
   "metadata": {},
   "outputs": [
    {
     "name": "stderr",
     "output_type": "stream",
     "text": [
      "/home/btan/miniconda3/envs/openbiosim/lib/python3.11/site-packages/BioSimSpace/Align/_align.py:1398: UserWarning: Residues 2 between molecule0 and molecule1 have identical atomtypes, which means you are likely attempting to match two identical residues.\n",
      "  _warnings.warn(\n"
     ]
    }
   ],
   "source": [
    "mapping = BSS.Align.matchAtoms(molecule0=protein, molecule1=protein_copy, roi=[2])"
   ]
  },
  {
   "cell_type": "code",
   "execution_count": 18,
   "id": "64b21aa0",
   "metadata": {},
   "outputs": [],
   "source": [
    "aligned = BSS.Align.rmsdAlign(molecule0=protein, molecule1=protein_copy, roi=[2])\n",
    "merged_protein = BSS.Align.merge(aligned, protein_copy, mapping, roi=[2])"
   ]
  },
  {
   "cell_type": "code",
   "execution_count": null,
   "id": "ac06ed5d",
   "metadata": {},
   "outputs": [],
   "source": [
    "merged_system = merged_protein.toSystem()\n",
    "\n",
    "padding = 15 * BSS.Units.Length.angstrom\n",
    "box_min, box_max = merged_system.getAxisAlignedBoundingBox()\n",
    "box_size = [y - x for x, y in zip(box_min, box_max)]\n",
    "box_sizes = [x + padding for x in box_size]\n",
    "\n",
    "box, angles = BSS.Box.rhombicDodecahedronHexagon(max(box_sizes))\n",
    "solvated_system = BSS.Solvent.tip3p(molecule=merged_system, box=box, angles=angles, ion_conc=0.15)\n",
    "\n",
    "BSS.Stream.save(solvated_system, \"1UBQ\")"
   ]
  },
  {
   "cell_type": "code",
   "execution_count": null,
   "id": "2cb71616",
   "metadata": {},
   "outputs": [],
   "source": []
  }
 ],
 "metadata": {
  "kernelspec": {
   "display_name": "openbiosim",
   "language": "python",
   "name": "python3"
  },
  "language_info": {
   "codemirror_mode": {
    "name": "ipython",
    "version": 3
   },
   "file_extension": ".py",
   "mimetype": "text/x-python",
   "name": "python",
   "nbconvert_exporter": "python",
   "pygments_lexer": "ipython3",
   "version": "3.11.13"
  }
 },
 "nbformat": 4,
 "nbformat_minor": 5
}
